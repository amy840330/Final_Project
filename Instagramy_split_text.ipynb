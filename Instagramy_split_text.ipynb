{
 "cells": [
  {
   "cell_type": "code",
   "execution_count": null,
   "id": "athletic-stanley",
   "metadata": {},
   "outputs": [],
   "source": [
    "import pandas as pd\n",
    "import re\n",
    "import datetime as dt"
   ]
  },
  {
   "cell_type": "code",
   "execution_count": null,
   "id": "english-extreme",
   "metadata": {},
   "outputs": [],
   "source": [
    "df=pd.read_csv(\"resources/post_data_user3_MBJ.csv\",encoding='ISO 8859-1')"
   ]
  },
  {
   "cell_type": "code",
   "execution_count": null,
   "id": "stuffed-education",
   "metadata": {},
   "outputs": [],
   "source": [
    "df=df.iloc[0:112,]\n",
    "df['text']=df['text'].astype(str)\n",
    "df"
   ]
  },
  {
   "cell_type": "code",
   "execution_count": null,
   "id": "animal-batman",
   "metadata": {},
   "outputs": [],
   "source": [
    "hash_tag=[]\n",
    "a=[]\n",
    "post=[]\n",
    "for x in df['text']:\n",
    "    a=x.split()\n",
    "    post=[]\n",
    "    for y in a:\n",
    "        m = re.findall(r'(?<=#)\\w+', y)\n",
    "        post.append(m)\n",
    "    hash_tag.append(post)"
   ]
  },
  {
   "cell_type": "code",
   "execution_count": null,
   "id": "continental-employee",
   "metadata": {},
   "outputs": [],
   "source": [
    "df['hash_tag']=hash_tag"
   ]
  },
  {
   "cell_type": "code",
   "execution_count": null,
   "id": "minor-dodge",
   "metadata": {},
   "outputs": [],
   "source": [
    "hash_tag2=[]\n",
    "for x in df['hash_tag']:\n",
    "    res = list(filter(None, x))\n",
    "    hash_tag2.append(res)"
   ]
  },
  {
   "cell_type": "code",
   "execution_count": null,
   "id": "velvet-petite",
   "metadata": {},
   "outputs": [],
   "source": [
    "df['Hash_tag2']=hash_tag2\n",
    "df.drop(columns=\"hash_tag\",inplace=True)"
   ]
  },
  {
   "cell_type": "code",
   "execution_count": null,
   "id": "c08f59f4",
   "metadata": {},
   "outputs": [],
   "source": [
    "df"
   ]
  },
  {
   "cell_type": "code",
   "execution_count": null,
   "id": "documented-beijing",
   "metadata": {},
   "outputs": [],
   "source": [
    "df.to_csv(\"./resources/ig_datascrape_jc_2021-08-25.csv\")"
   ]
  },
  {
   "cell_type": "code",
   "execution_count": null,
   "id": "analyzed-wyoming",
   "metadata": {},
   "outputs": [],
   "source": [
    "df"
   ]
  }
 ],
 "metadata": {
  "kernelspec": {
   "display_name": "Python 3",
   "language": "python",
   "name": "python3"
  },
  "language_info": {
   "codemirror_mode": {
    "name": "ipython",
    "version": 3
   },
   "file_extension": ".py",
   "mimetype": "text/x-python",
   "name": "python",
   "nbconvert_exporter": "python",
   "pygments_lexer": "ipython3",
   "version": "3.6.13"
  }
 },
 "nbformat": 4,
 "nbformat_minor": 5
}
