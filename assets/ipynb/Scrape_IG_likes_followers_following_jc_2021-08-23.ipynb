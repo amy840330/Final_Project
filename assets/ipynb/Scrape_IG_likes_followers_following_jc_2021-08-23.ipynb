{
 "cells": [
  {
   "cell_type": "code",
   "execution_count": null,
   "id": "fe51ff3b",
   "metadata": {},
   "outputs": [],
   "source": [
    "# required libraries and/or packages\n",
    "  # conda install -c conda-forge selenium\n",
    "  # conda install -c conda-forge python-chromedriver-binary"
   ]
  },
  {
   "cell_type": "code",
   "execution_count": 13,
   "id": "31b156ea",
   "metadata": {},
   "outputs": [],
   "source": [
    "# set up and configruation\n",
    "import selenium\n",
    "from selenium import webdriver\n",
    "import pandas as pd\n",
    "# oprionl, may be needed\n",
    "from webdriver_manager.chrome import ChromeDriverManager"
   ]
  },
  {
   "cell_type": "code",
   "execution_count": 14,
   "id": "46fb90ea",
   "metadata": {},
   "outputs": [
    {
     "name": "stderr",
     "output_type": "stream",
     "text": [
      "\n",
      "\n",
      "====== WebDriver manager ======\n",
      "Current google-chrome version is 92.0.4515\n",
      "Get LATEST driver version for 92.0.4515\n",
      "Driver [C:\\Users\\jchan\\.wdm\\drivers\\chromedriver\\win32\\92.0.4515.107\\chromedriver.exe] found in cache\n"
     ]
    }
   ],
   "source": [
    "# initializes the web broweser\n",
    "driver = webdriver.Chrome(ChromeDriverManager().install())"
   ]
  },
  {
   "cell_type": "code",
   "execution_count": 15,
   "id": "e16d645b",
   "metadata": {},
   "outputs": [],
   "source": [
    "# tells where the web browser should go\n",
    "driver.get('https://www.instagram.com/kimkardashian/?hl=en')\n"
   ]
  },
  {
   "cell_type": "code",
   "execution_count": 22,
   "id": "925af5fa",
   "metadata": {},
   "outputs": [],
   "source": [
    "# number of posts. \n",
    "# open inspect in the browser window. click on the desired item. right-click the high-lighted\n",
    "# information in the inspect window. select copy, then 'full xpath'. replace xpath, below.\n",
    "Posts = driver.find_element_by_xpath('/html/body/div[1]/section/main/div/ul/li[1]/a/span').text\n",
    "# number of followers\n",
    "Followers = driver.find_element_by_xpath('/html/body/div[1]/section/main/div/ul/li[2]/a/span').text\n",
    "# number following\n",
    "Following = driver.find_element_by_xpath('/html/body/div[1]/section/main/div/ul/li[3]/a/span').text\n"
   ]
  },
  {
   "cell_type": "code",
   "execution_count": 30,
   "id": "e7967194",
   "metadata": {},
   "outputs": [
    {
     "name": "stdout",
     "output_type": "stream",
     "text": [
      "Number of posts: 5,613\n",
      "Number of followers: 247m\n",
      "Following: 153 people\n"
     ]
    }
   ],
   "source": [
    "# print information collected\n",
    "print(f'Number of posts: {Posts}')\n",
    "print(f'Number of followers: {Followers}')\n",
    "print(f'Following: {Following} people')"
   ]
  },
  {
   "cell_type": "code",
   "execution_count": 24,
   "id": "d734a7de",
   "metadata": {},
   "outputs": [],
   "source": [
    "# create empty dataframe\n",
    "data1 = {'Posts':[], 'Followers':[], 'Following':[],}\n",
    "fulldf = pd.DataFrame(data1)"
   ]
  },
  {
   "cell_type": "code",
   "execution_count": 25,
   "id": "0d031cc4",
   "metadata": {},
   "outputs": [],
   "source": [
    "# append data pulled from script and into the dataframe\n",
    "row = [Posts, Followers, Following]\n",
    "fulldf.loc[len(fulldf)] = row"
   ]
  },
  {
   "cell_type": "code",
   "execution_count": null,
   "id": "843e95d0",
   "metadata": {},
   "outputs": [],
   "source": []
  }
 ],
 "metadata": {
  "kernelspec": {
   "display_name": "Python 3",
   "language": "python",
   "name": "python3"
  },
  "language_info": {
   "codemirror_mode": {
    "name": "ipython",
    "version": 3
   },
   "file_extension": ".py",
   "mimetype": "text/x-python",
   "name": "python",
   "nbconvert_exporter": "python",
   "pygments_lexer": "ipython3",
   "version": "3.6.13"
  }
 },
 "nbformat": 4,
 "nbformat_minor": 5
}
