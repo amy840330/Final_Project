{
 "cells": [
  {
   "cell_type": "code",
   "execution_count": null,
   "id": "6a2f8191",
   "metadata": {},
   "outputs": [],
   "source": []
  }
 ],
 "metadata": {
  "kernelspec": {
   "display_name": "newkernelinvenv",
   "language": "python",
   "name": "newkernelinvenv"
  }
 },
 "nbformat": 4,
 "nbformat_minor": 5
}
