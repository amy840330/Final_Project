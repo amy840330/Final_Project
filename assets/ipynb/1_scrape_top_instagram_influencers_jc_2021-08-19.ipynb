{
 "cells": [
  {
   "cell_type": "markdown",
   "id": "67323421",
   "metadata": {},
   "source": [
    "# Script to Scrape Top Instagram Influencers"
   ]
  },
  {
   "cell_type": "markdown",
   "id": "f2adc1e5",
   "metadata": {},
   "source": [
    "## Libraries for web scraping\n",
    "<p> pip install beautifulsoup4. Creates a parse tree for parsing HTML and XML documents<p>\n",
    "<p >pip install requests. Used for making various types of HTTP requests like GET, POST<p>"
   ]
  },
  {
   "cell_type": "markdown",
   "id": "1da9dea6",
   "metadata": {},
   "source": [
    "[The re module is used to specify rules](https://docs.python.org/3/library/re.html) for string(s) that you wish to pattern match."
   ]
  },
  {
   "cell_type": "markdown",
   "id": "2b2cfbf1",
   "metadata": {},
   "source": [
    "## Get data"
   ]
  },
  {
   "cell_type": "code",
   "execution_count": null,
   "id": "34c60f66",
   "metadata": {},
   "outputs": [],
   "source": [
    "# Dependencies and Setup\n",
    "\n",
    "from bs4 import BeautifulSoup\n",
    "import requests\n",
    "import re"
   ]
  },
  {
   "cell_type": "markdown",
   "id": "f075366d",
   "metadata": {},
   "source": [
    "## Preview html tags and text"
   ]
  },
  {
   "cell_type": "code",
   "execution_count": null,
   "id": "237f85bd",
   "metadata": {},
   "outputs": [],
   "source": [
    "url = \"https://www.uschamber.com/co/grow/marketing/top-social-media-influencers\"\n",
    "req = requests.get(url)\n",
    "soup = BeautifulSoup(req.content, 'html.parser')\n",
    "print(soup.prettify())"
   ]
  },
  {
   "cell_type": "markdown",
   "id": "cdb25cd1",
   "metadata": {},
   "source": [
    "##  Find URLs matching text pattern"
   ]
  },
  {
   "cell_type": "markdown",
   "id": "82c34fa8",
   "metadata": {},
   "source": [
    "[Learn how to use Beautifulsoup](https://tinyurl.com/pnkrpawt) to parse and extract HTML elements."
   ]
  },
  {
   "cell_type": "code",
   "execution_count": null,
   "id": "06452afc",
   "metadata": {},
   "outputs": [],
   "source": [
    "# Use a for loop to find all <a> tag elements in soup, then extract of href attribute from the\n",
    "# soup object using attrs. With re.compile, find the defined pattern of text to be matched.\n",
    "\n",
    "for a_href in soup.find_all(\"a\", attrs={'href': re.compile(\"^https://www.instagram.com/\")}):\n",
    "    # Create text file in directory. Get each instagram link and append to csv file and add line char.\n",
    "    with open(\"/Users/jchan/Documents/UCD_bootcamp/Final_Project/resources/top_ig_urls.csv\",\n",
    "          \"a\") as linkfile:\n",
    "          linkfile.write(a_href[\"href\"]+\"\\n\")\n",
    "    print(a_href[\"href\"])"
   ]
  },
  {
   "cell_type": "markdown",
   "id": "41df3a5d",
   "metadata": {},
   "source": []
  }
 ],
 "metadata": {
  "kernelspec": {
   "display_name": "Python 3",
   "language": "python",
   "name": "python3"
  },
  "language_info": {
   "codemirror_mode": {
    "name": "ipython",
    "version": 3
   },
   "file_extension": ".py",
   "mimetype": "text/x-python",
   "name": "python",
   "nbconvert_exporter": "python",
   "pygments_lexer": "ipython3",
   "version": "3.6.13"
  }
 },
 "nbformat": 4,
 "nbformat_minor": 5
}
