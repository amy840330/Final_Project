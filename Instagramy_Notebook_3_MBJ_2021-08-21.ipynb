{
 "cells": [
  {
   "cell_type": "code",
   "execution_count": null,
   "id": "static-threshold",
   "metadata": {},
   "outputs": [],
   "source": [
    "# Breaking up code into separate notebooks to see if I can get this data to run better stand alone\n",
    "# Might not need this notebook if we can get the 'text' code to work in the previous notebook"
   ]
  },
  {
   "cell_type": "code",
   "execution_count": 1,
   "id": "standing-bulgaria",
   "metadata": {},
   "outputs": [],
   "source": [
    "from instagramy import InstagramUser\n",
    "from instagramy import InstagramPost\n",
    "import pandas as pd\n",
    "import time"
   ]
  },
  {
   "cell_type": "code",
   "execution_count": 2,
   "id": "answering-carroll",
   "metadata": {},
   "outputs": [],
   "source": [
    "# Grab session id: \n",
    "# log into Instagram in browser, \n",
    "    # inspect page --> \n",
    "    # click on application tab --> \n",
    "    # expand cookies (left hand side under 'Storage') --> \n",
    "    # click on cookie for https://instagram.com --> \n",
    "    # copy session id from the table\n",
    "    \n",
    "session_id = \"145470550%3Apk3dmP5fGaSHHO%3A6\""
   ]
  },
  {
   "cell_type": "code",
   "execution_count": 2,
   "id": "radio-mentor",
   "metadata": {},
   "outputs": [
    {
     "data": {
      "text/html": [
       "<div>\n",
       "<style scoped>\n",
       "    .dataframe tbody tr th:only-of-type {\n",
       "        vertical-align: middle;\n",
       "    }\n",
       "\n",
       "    .dataframe tbody tr th {\n",
       "        vertical-align: top;\n",
       "    }\n",
       "\n",
       "    .dataframe thead th {\n",
       "        text-align: right;\n",
       "    }\n",
       "</style>\n",
       "<table border=\"1\" class=\"dataframe\">\n",
       "  <thead>\n",
       "    <tr style=\"text-align: right;\">\n",
       "      <th></th>\n",
       "      <th>author</th>\n",
       "      <th>shortcode</th>\n",
       "      <th>timestamp</th>\n",
       "      <th>likes</th>\n",
       "      <th>comments</th>\n",
       "      <th>caption</th>\n",
       "    </tr>\n",
       "  </thead>\n",
       "  <tbody>\n",
       "    <tr>\n",
       "      <th>0</th>\n",
       "      <td>shmee150</td>\n",
       "      <td>CSzoxcyrzj2</td>\n",
       "      <td>1629485286</td>\n",
       "      <td>19080</td>\n",
       "      <td>49</td>\n",
       "      <td>Photo shared by Tim - Shmee on August 20, 2021...</td>\n",
       "    </tr>\n",
       "    <tr>\n",
       "      <th>1</th>\n",
       "      <td>shmee150</td>\n",
       "      <td>CSr2jQPjy59</td>\n",
       "      <td>1629224075</td>\n",
       "      <td>22143</td>\n",
       "      <td>100</td>\n",
       "      <td>Photo shared by Tim - Shmee on August 17, 2021...</td>\n",
       "    </tr>\n",
       "    <tr>\n",
       "      <th>2</th>\n",
       "      <td>shmee150</td>\n",
       "      <td>CSpWzdxJIIV</td>\n",
       "      <td>1629140321</td>\n",
       "      <td>21606</td>\n",
       "      <td>130</td>\n",
       "      <td>Photo shared by Tim - Shmee on August 16, 2021...</td>\n",
       "    </tr>\n",
       "    <tr>\n",
       "      <th>3</th>\n",
       "      <td>shmee150</td>\n",
       "      <td>CSkdxyJAk2n</td>\n",
       "      <td>1628976206</td>\n",
       "      <td>30069</td>\n",
       "      <td>113</td>\n",
       "      <td>Photo shared by Tim - Shmee on August 14, 2021...</td>\n",
       "    </tr>\n",
       "    <tr>\n",
       "      <th>4</th>\n",
       "      <td>shmee150</td>\n",
       "      <td>CSfHSEzi3BD</td>\n",
       "      <td>1628796639</td>\n",
       "      <td>34073</td>\n",
       "      <td>140</td>\n",
       "      <td>Photo shared by Tim - Shmee on August 12, 2021...</td>\n",
       "    </tr>\n",
       "    <tr>\n",
       "      <th>...</th>\n",
       "      <td>...</td>\n",
       "      <td>...</td>\n",
       "      <td>...</td>\n",
       "      <td>...</td>\n",
       "      <td>...</td>\n",
       "      <td>...</td>\n",
       "    </tr>\n",
       "    <tr>\n",
       "      <th>475</th>\n",
       "      <td>thrivewithco</td>\n",
       "      <td>CR9LIYCrPZt</td>\n",
       "      <td>1627657816</td>\n",
       "      <td>15</td>\n",
       "      <td>2</td>\n",
       "      <td>Photo shared by CO— by USCC on July 30, 2021 t...</td>\n",
       "    </tr>\n",
       "    <tr>\n",
       "      <th>476</th>\n",
       "      <td>thrivewithco</td>\n",
       "      <td>CR7P4Xxgy99</td>\n",
       "      <td>1627593199</td>\n",
       "      <td>9</td>\n",
       "      <td>4</td>\n",
       "      <td>Photo shared by CO— by USCC on July 29, 2021 t...</td>\n",
       "    </tr>\n",
       "    <tr>\n",
       "      <th>477</th>\n",
       "      <td>thrivewithco</td>\n",
       "      <td>CR1ZptKNLlR</td>\n",
       "      <td>1627396999</td>\n",
       "      <td>9</td>\n",
       "      <td>3</td>\n",
       "      <td>Photo shared by CO— by USCC on July 27, 2021 t...</td>\n",
       "    </tr>\n",
       "    <tr>\n",
       "      <th>478</th>\n",
       "      <td>thrivewithco</td>\n",
       "      <td>CRonaH9NfBc</td>\n",
       "      <td>1626967999</td>\n",
       "      <td>15</td>\n",
       "      <td>6</td>\n",
       "      <td>Photo by CO— by USCC on July 22, 2021. May be ...</td>\n",
       "    </tr>\n",
       "    <tr>\n",
       "      <th>479</th>\n",
       "      <td>thrivewithco</td>\n",
       "      <td>CRkPfKpsgEE</td>\n",
       "      <td>1626821244</td>\n",
       "      <td>17</td>\n",
       "      <td>4</td>\n",
       "      <td>Photo shared by CO— by USCC on July 20, 2021 t...</td>\n",
       "    </tr>\n",
       "  </tbody>\n",
       "</table>\n",
       "<p>480 rows × 6 columns</p>\n",
       "</div>"
      ],
      "text/plain": [
       "           author    shortcode   timestamp  likes  comments  \\\n",
       "0        shmee150  CSzoxcyrzj2  1629485286  19080        49   \n",
       "1        shmee150  CSr2jQPjy59  1629224075  22143       100   \n",
       "2        shmee150  CSpWzdxJIIV  1629140321  21606       130   \n",
       "3        shmee150  CSkdxyJAk2n  1628976206  30069       113   \n",
       "4        shmee150  CSfHSEzi3BD  1628796639  34073       140   \n",
       "..            ...          ...         ...    ...       ...   \n",
       "475  thrivewithco  CR9LIYCrPZt  1627657816     15         2   \n",
       "476  thrivewithco  CR7P4Xxgy99  1627593199      9         4   \n",
       "477  thrivewithco  CR1ZptKNLlR  1627396999      9         3   \n",
       "478  thrivewithco  CRonaH9NfBc  1626967999     15         6   \n",
       "479  thrivewithco  CRkPfKpsgEE  1626821244     17         4   \n",
       "\n",
       "                                               caption  \n",
       "0    Photo shared by Tim - Shmee on August 20, 2021...  \n",
       "1    Photo shared by Tim - Shmee on August 17, 2021...  \n",
       "2    Photo shared by Tim - Shmee on August 16, 2021...  \n",
       "3    Photo shared by Tim - Shmee on August 14, 2021...  \n",
       "4    Photo shared by Tim - Shmee on August 12, 2021...  \n",
       "..                                                 ...  \n",
       "475  Photo shared by CO— by USCC on July 30, 2021 t...  \n",
       "476  Photo shared by CO— by USCC on July 29, 2021 t...  \n",
       "477  Photo shared by CO— by USCC on July 27, 2021 t...  \n",
       "478  Photo by CO— by USCC on July 22, 2021. May be ...  \n",
       "479  Photo shared by CO— by USCC on July 20, 2021 t...  \n",
       "\n",
       "[480 rows x 6 columns]"
      ]
     },
     "execution_count": 2,
     "metadata": {},
     "output_type": "execute_result"
    }
   ],
   "source": [
    "post_data_df = pd.read_csv('resources/post_data_user2_MBJ.csv', index_col=0)\n",
    "\n",
    "# Show usernames\n",
    "post_data_df"
   ]
  },
  {
   "cell_type": "code",
   "execution_count": 3,
   "id": "about-priority",
   "metadata": {},
   "outputs": [
    {
     "data": {
      "text/plain": [
       "0      CSzoxcyrzj2\n",
       "1      CSr2jQPjy59\n",
       "2      CSpWzdxJIIV\n",
       "3      CSkdxyJAk2n\n",
       "4      CSfHSEzi3BD\n",
       "          ...     \n",
       "475    CR9LIYCrPZt\n",
       "476    CR7P4Xxgy99\n",
       "477    CR1ZptKNLlR\n",
       "478    CRonaH9NfBc\n",
       "479    CRkPfKpsgEE\n",
       "Name: shortcode, Length: 480, dtype: object"
      ]
     },
     "execution_count": 3,
     "metadata": {},
     "output_type": "execute_result"
    }
   ],
   "source": [
    "postcode_list = post_data_df['shortcode']\n",
    "postcode_list"
   ]
  },
  {
   "cell_type": "code",
   "execution_count": 18,
   "id": "broad-message",
   "metadata": {},
   "outputs": [],
   "source": [
    "# Refresh this cell to empty list before updating and running cell below\n",
    "\n",
    "post_text = []"
   ]
  },
  {
   "cell_type": "code",
   "execution_count": 22,
   "id": "commercial-circuit",
   "metadata": {},
   "outputs": [
    {
     "ename": "KeyError",
     "evalue": "'PostPage'",
     "output_type": "error",
     "traceback": [
      "\u001b[1;31m---------------------------------------------------------------------------\u001b[0m",
      "\u001b[1;31mKeyError\u001b[0m                                  Traceback (most recent call last)",
      "\u001b[1;32m<ipython-input-22-6380e7fde9fa>\u001b[0m in \u001b[0;36m<module>\u001b[1;34m\u001b[0m\n\u001b[0;32m      3\u001b[0m \u001b[1;33m\u001b[0m\u001b[0m\n\u001b[0;32m      4\u001b[0m \u001b[1;32mfor\u001b[0m \u001b[0mi\u001b[0m \u001b[1;32min\u001b[0m \u001b[0mrange\u001b[0m\u001b[1;33m(\u001b[0m\u001b[1;36m348\u001b[0m\u001b[1;33m,\u001b[0m\u001b[1;36m375\u001b[0m\u001b[1;33m)\u001b[0m\u001b[1;33m:\u001b[0m\u001b[1;33m\u001b[0m\u001b[1;33m\u001b[0m\u001b[0m\n\u001b[1;32m----> 5\u001b[1;33m     \u001b[0mpost_info\u001b[0m \u001b[1;33m=\u001b[0m \u001b[0mInstagramPost\u001b[0m\u001b[1;33m(\u001b[0m \u001b[0mpostcode_list\u001b[0m\u001b[1;33m[\u001b[0m\u001b[0mi\u001b[0m\u001b[1;33m]\u001b[0m\u001b[1;33m)\u001b[0m\u001b[1;33m.\u001b[0m\u001b[0mtext\u001b[0m\u001b[1;33m\u001b[0m\u001b[1;33m\u001b[0m\u001b[0m\n\u001b[0m\u001b[0;32m      6\u001b[0m     \u001b[0mpost_text\u001b[0m\u001b[1;33m.\u001b[0m\u001b[0mappend\u001b[0m\u001b[1;33m(\u001b[0m \u001b[0mpost_info\u001b[0m\u001b[1;33m)\u001b[0m\u001b[1;33m\u001b[0m\u001b[1;33m\u001b[0m\u001b[0m\n\u001b[0;32m      7\u001b[0m     \u001b[0mtime\u001b[0m\u001b[1;33m.\u001b[0m\u001b[0msleep\u001b[0m\u001b[1;33m(\u001b[0m\u001b[1;36m3\u001b[0m\u001b[1;33m)\u001b[0m\u001b[1;33m\u001b[0m\u001b[1;33m\u001b[0m\u001b[0m\n",
      "\u001b[1;32m~\\Anaconda3\\envs\\PythonData\\lib\\site-packages\\instagramy\\InstagramPost.py\u001b[0m in \u001b[0;36m__init__\u001b[1;34m(self, post_id, sessionid, from_cache)\u001b[0m\n\u001b[0;32m     66\u001b[0m             \u001b[0mdata\u001b[0m \u001b[1;33m=\u001b[0m \u001b[0mself\u001b[0m\u001b[1;33m.\u001b[0m\u001b[0mget_json\u001b[0m\u001b[1;33m(\u001b[0m\u001b[1;33m)\u001b[0m\u001b[1;33m\u001b[0m\u001b[1;33m\u001b[0m\u001b[0m\n\u001b[0;32m     67\u001b[0m             cache.make_cache(\n\u001b[1;32m---> 68\u001b[1;33m                 \u001b[0mpost_id\u001b[0m\u001b[1;33m,\u001b[0m \u001b[0mdata\u001b[0m\u001b[1;33m[\u001b[0m\u001b[1;34m\"entry_data\"\u001b[0m\u001b[1;33m]\u001b[0m\u001b[1;33m[\u001b[0m\u001b[1;34m\"PostPage\"\u001b[0m\u001b[1;33m]\u001b[0m\u001b[1;33m[\u001b[0m\u001b[1;36m0\u001b[0m\u001b[1;33m]\u001b[0m\u001b[1;33m[\u001b[0m\u001b[1;34m\"graphql\"\u001b[0m\u001b[1;33m]\u001b[0m\u001b[1;33m[\u001b[0m\u001b[1;34m\"shortcode_media\"\u001b[0m\u001b[1;33m]\u001b[0m\u001b[1;33m\u001b[0m\u001b[1;33m\u001b[0m\u001b[0m\n\u001b[0m\u001b[0;32m     69\u001b[0m             )\n\u001b[0;32m     70\u001b[0m             \u001b[1;32mtry\u001b[0m\u001b[1;33m:\u001b[0m\u001b[1;33m\u001b[0m\u001b[1;33m\u001b[0m\u001b[0m\n",
      "\u001b[1;31mKeyError\u001b[0m: 'PostPage'"
     ]
    }
   ],
   "source": [
    "# Updating in increments of 25-30 at a time. \n",
    "# Sometimes adding ', from_cache=True' to the end of the 'InstagramPost()' code (inside the parentheses) works.\n",
    "\n",
    "for i in range(348,375):\n",
    "    post_info = InstagramPost( postcode_list[i]).text\n",
    "    post_text.append( post_info)\n",
    "    time.sleep(3)"
   ]
  },
  {
   "cell_type": "code",
   "execution_count": 23,
   "id": "streaming-foster",
   "metadata": {},
   "outputs": [
    {
     "data": {
      "text/plain": [
       "[]"
      ]
     },
     "execution_count": 23,
     "metadata": {},
     "output_type": "execute_result"
    }
   ],
   "source": [
    "post_text"
   ]
  },
  {
   "cell_type": "code",
   "execution_count": 17,
   "id": "satisfied-thousand",
   "metadata": {},
   "outputs": [],
   "source": [
    "post_text_df = pd.DataFrame( columns= ['text'])\n",
    "post_text_df.text = post_text\n",
    "post_text_df.to_csv( 'resources/post_text15.csv')"
   ]
  }
 ],
 "metadata": {
  "kernelspec": {
   "display_name": "Python [conda env:PythonData] *",
   "language": "python",
   "name": "conda-env-PythonData-py"
  },
  "language_info": {
   "codemirror_mode": {
    "name": "ipython",
    "version": 3
   },
   "file_extension": ".py",
   "mimetype": "text/x-python",
   "name": "python",
   "nbconvert_exporter": "python",
   "pygments_lexer": "ipython3",
   "version": "3.6.10"
  }
 },
 "nbformat": 4,
 "nbformat_minor": 5
}
