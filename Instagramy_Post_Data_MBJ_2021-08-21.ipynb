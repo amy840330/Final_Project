{
 "cells": [
  {
   "cell_type": "code",
   "execution_count": null,
   "id": "disciplinary-spanking",
   "metadata": {},
   "outputs": [],
   "source": [
    "from instagramy import InstagramUser\n",
    "from instagramy import InstagramPost\n",
    "import pandas as pd\n",
    "import time"
   ]
  },
  {
   "cell_type": "code",
   "execution_count": null,
   "id": "through-oasis",
   "metadata": {},
   "outputs": [],
   "source": [
    "# Grab session id: \n",
    "# log into Instagram in browser, \n",
    "    # inspect page --> \n",
    "    # click on application tab --> \n",
    "    # expand cookies (left hand side under 'Storage') --> \n",
    "    # click on cookie for https://instagram.com --> \n",
    "    # copy session id from the table\n",
    "    \n",
    "session_id = \"145470550%3Apk3dmP5fGaSHHO%3A6\""
   ]
  },
  {
   "cell_type": "code",
   "execution_count": null,
   "id": "distant-class",
   "metadata": {},
   "outputs": [],
   "source": [
    "# Separately, we created a list of Instagram users from whom we want to pull data\n",
    "# Import list of users\n",
    "\n",
    "# Read in separate list of pre-selected usernames into pandas dataframe\n",
    "user_df = pd.read_csv('./resources/top_ig_usernames_MBJ.csv', header=None)\n",
    "\n",
    "# Show usernames\n",
    "user_df"
   ]
  },
  {
   "cell_type": "code",
   "execution_count": null,
   "id": "imported-active",
   "metadata": {},
   "outputs": [],
   "source": [
    "# Set up lists for holding scraped data\n",
    "\n",
    "post_author = []\n",
    "post_shortcode = []\n",
    "post_likes = []\n",
    "post_comments = []\n",
    "post_caption = []\n",
    "post_timestamp = []\n",
    "post_text = []"
   ]
  },
  {
   "cell_type": "code",
   "execution_count": null,
   "id": "biblical-marking",
   "metadata": {},
   "outputs": [],
   "source": [
    "# Set up dual for loops that iterate over each post for each Instagram user\n",
    "# Append the data items we want to scrape to the empty lists in the previous cell\n",
    "\n",
    "for x in user_df[0]:\n",
    "    user = InstagramUser( x, sessionid=session_id)\n",
    "    post = user.posts\n",
    "    \n",
    "    for post in user.posts:\n",
    "        post_author.append( x)\n",
    "        post_shortcode.append( post.shortcode)\n",
    "        post_likes.append( post.likes)\n",
    "        post_comments.append( post.comments)\n",
    "        post_caption.append( post.caption)\n",
    "        post_timestamp.append( post.timestamp)\n",
    "        time.sleep(1)"
   ]
  },
  {
   "cell_type": "code",
   "execution_count": null,
   "id": "charged-capture",
   "metadata": {},
   "outputs": [],
   "source": [
    "# Can run 30 shortcodes at a time max\n",
    "\n",
    "for i in range( 0, 24):  # <-- Keep updating this to run through all 479 posts in 25 shortcode increments.\n",
    "    post_initiated = InstagramPost( post_shortcode[i], from_cache=True) # <-- can try with or without sessionid\n",
    "    post_text.append( post_initiated.text)\n",
    "    time.sleep(1)"
   ]
  },
  {
   "cell_type": "code",
   "execution_count": null,
   "id": "empty-archive",
   "metadata": {},
   "outputs": [],
   "source": [
    "# Create dataframe for holding the information we scraped\n",
    "post_data_df = pd.DataFrame( columns= ['author', \n",
    "                                       'shortcode', \n",
    "                                       'timestamp', \n",
    "                                       'likes',\n",
    "                                       'comments', \n",
    "                                       'caption', \n",
    "                                       'text']) # <-- add , 'text'\n",
    "\n",
    "# Add 'text' to the list above (put comma after caption and then add), if we can get the code in the prior cell to run"
   ]
  },
  {
   "cell_type": "code",
   "execution_count": null,
   "id": "surgical-frequency",
   "metadata": {},
   "outputs": [],
   "source": [
    "# Add scraped info into the dataframe\n",
    "post_data_df.author = post_author\n",
    "post_data_df.shortcode = post_shortcode\n",
    "post_data_df.timestamp = post_timestamp\n",
    "post_data_df.likes = post_likes\n",
    "post_data_df.comments = post_comments\n",
    "post_data_df.caption = post_caption\n",
    "\n",
    "# Un-comment below if we can get the 'text' code to run in the two cells above\n",
    "post_data_df.text = post_text\n",
    "\n",
    "# Show dataframe\n",
    "post_data_df"
   ]
  },
  {
   "cell_type": "code",
   "execution_count": null,
   "id": "dramatic-dimension",
   "metadata": {},
   "outputs": [],
   "source": [
    "# Change number and/or change initials in the file name below each time this notebook is run\n",
    "\n",
    "post_data_df.to_csv('resources/post_data_user4_MBJ.csv')"
   ]
  }
 ],
 "metadata": {
  "kernelspec": {
   "display_name": "Python 3",
   "language": "python",
   "name": "python3"
  },
  "language_info": {
   "codemirror_mode": {
    "name": "ipython",
    "version": 3
   },
   "file_extension": ".py",
   "mimetype": "text/x-python",
   "name": "python",
   "nbconvert_exporter": "python",
   "pygments_lexer": "ipython3",
   "version": "3.6.13"
  }
 },
 "nbformat": 4,
 "nbformat_minor": 5
}
