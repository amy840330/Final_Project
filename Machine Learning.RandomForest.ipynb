{
 "cells": [
  {
   "cell_type": "code",
   "execution_count": 1,
   "id": "intended-photographer",
   "metadata": {},
   "outputs": [],
   "source": [
    "import pandas as pd\n",
    "import matplotlib.pyplot as plt\n",
    "import seaborn as sns\n",
    "from sklearn.model_selection import train_test_split\n",
    "import numpy as np\n",
    "from sklearn.ensemble import RandomForestRegressor\n",
    "import bs4"
   ]
  },
  {
   "cell_type": "code",
   "execution_count": 2,
   "id": "scenic-february",
   "metadata": {},
   "outputs": [],
   "source": [
    "#Create Empty List\n",
    "ranking = []\n",
    "username = []\n",
    "category = []\n",
    "category_2 = []\n",
    "#Function to scrape username information\n",
    "def scrape_username(url):\n",
    "    \n",
    "    #accessing and parsing the input url\n",
    "    response = requests.get(\"http://www.instagram.com\")\n",
    "    print(f'page {a} respose {response}')\n",
    "    soup = BeautifulSoup(response.content, 'html.parser')\n",
    "    list_username = soup.find_all('tr')\n",
    "    \n",
    "    #looping to the element that we want to scrape\n",
    "    for p in list(list_username):\n",
    "        try:\n",
    "            #getting the information (rank, names, and category)\n",
    "            rank = p.find('td', 'align-middle').get_text().strip()\n",
    "            ranking.append(rank)\n",
    "            name = p.find('a').get_text().strip()\n",
    "            username.append(name)\n",
    "            cat = p.find_all('span', 'badge badge-pill badge-light samll text-muted')\n",
    "            category_2 = []\n",
    "            for c in cat:\n",
    "                d = c.find('a', 'link').get_text()\n",
    "                category_2.append(d)\n",
    "            category.append(category_2)\n",
    "        except:\n",
    "            continue"
   ]
  },
  {
   "cell_type": "code",
   "execution_count": 3,
   "id": "earlier-outline",
   "metadata": {},
   "outputs": [],
   "source": [
    "#Create Empty List\n",
    "link = []\n",
    "names = []\n",
    "#Function to get Post Link\n",
    "def get_influencer_link(url):\n",
    "    #to influencer url\n",
    "    url = f'https://www.instagram.com/marvel/'\n",
    "    driver = webdriver.Chrome('C:/Users/17076/.wdm/drivers/chromedriver/win32/92.0.4515.107/chromedriver.exe')\n",
    "    driver.get(url)\n",
    "    time.sleep(5)\n",
    "    i = 0\n",
    "    while i < 8:   \n",
    "        try:\n",
    "            #get the links\n",
    "            pages = driver.find_elements_by_tag_name('a')\n",
    "            for data in pages:\n",
    "                data_2 = data.get_attribute(\"href\")\n",
    "                if '/p/' in data_2:\n",
    "                    link.append(data.get_attribute(\"href\"))\n",
    "                    names.append(name)\n",
    "            # Scroll down to bottom\n",
    "            driver.execute_script(\"window.scrollTo(0, document.body.scrollHeight);\")\n",
    "            # Wait to load page\n",
    "            time.sleep(1)\n",
    "            i += 1\n",
    "        except:\n",
    "            i += 1\n",
    "            continue\n",
    "    driver.quit()"
   ]
  },
  {
   "cell_type": "code",
   "execution_count": 4,
   "id": "collectible-fundamental",
   "metadata": {},
   "outputs": [],
   "source": [
    "#Create Empty List\n",
    "likes = []\n",
    "comment_counts = []\n",
    "dates = []\n",
    "captions = []\n",
    "type_posts = []\n",
    "links = []\n",
    "#Function to get information\n",
    "def get_information(links):    \n",
    "    try:\n",
    "        global i, n\n",
    "        \n",
    "        #accessing and parsing the website url\n",
    "        url = \"http://www.instagram.com\"\n",
    "        response = requests.get(url)\n",
    "        soup = BeautifulSoup(response.content)\n",
    "        \n",
    "        #find element that contain information\n",
    "        body = soup.find('body')\n",
    "        script = body.find('script')\n",
    "        raw = script.text.strip().replace('window._sharedData =', '').replace(';', '')\n",
    "        json_data=json.loads(raw)\n",
    "        posts =json_data['entry_data']['PostPage'][0]['graphql']\n",
    "        posts= json.dumps(posts)\n",
    "        posts = json.loads(posts)\n",
    "        \n",
    "        #acquiring information\n",
    "        like = posts['shortcode_media']['edge_media_preview_like']['count']\n",
    "        comment_count = posts['shortcode_media']['edge_media_to_parent_comment']['count']\n",
    "        date = posts['shortcode_media']['taken_at_timestamp']\n",
    "        caption = posts['shortcode_media']['edge_media_to_caption']['edges'][0]['node']['text']\n",
    "        type_post = posts['shortcode_media']['__typename']\n",
    "        likes.append(like)\n",
    "        comment_counts.append(comment_count)\n",
    "        dates.append(date)\n",
    "        captions.append(caption)\n",
    "        type_posts.append(type_post)\n",
    "        links.append(link)\n",
    "        i += 1\n",
    "    except:\n",
    "        i += 1\n",
    "        n += 1\n",
    "        print(f'number of link error {n} at iteration {i}')\n",
    "        pass\n",
    "    "
   ]
  },
  {
   "cell_type": "code",
   "execution_count": 5,
   "id": "sharp-contest",
   "metadata": {},
   "outputs": [
    {
     "data": {
      "text/html": [
       "<div>\n",
       "<style scoped>\n",
       "    .dataframe tbody tr th:only-of-type {\n",
       "        vertical-align: middle;\n",
       "    }\n",
       "\n",
       "    .dataframe tbody tr th {\n",
       "        vertical-align: top;\n",
       "    }\n",
       "\n",
       "    .dataframe thead th {\n",
       "        text-align: right;\n",
       "    }\n",
       "</style>\n",
       "<table border=\"1\" class=\"dataframe\">\n",
       "  <thead>\n",
       "    <tr style=\"text-align: right;\">\n",
       "      <th></th>\n",
       "      <th>likes</th>\n",
       "      <th>comment_counts</th>\n",
       "      <th>dates</th>\n",
       "      <th>captions</th>\n",
       "      <th>type_posts</th>\n",
       "      <th>links</th>\n",
       "    </tr>\n",
       "  </thead>\n",
       "  <tbody>\n",
       "  </tbody>\n",
       "</table>\n",
       "</div>"
      ],
      "text/plain": [
       "Empty DataFrame\n",
       "Columns: [likes, comment_counts, dates, captions, type_posts, links]\n",
       "Index: []"
      ]
     },
     "execution_count": 5,
     "metadata": {},
     "output_type": "execute_result"
    }
   ],
   "source": [
    "\n",
    "\n",
    "df = pd.DataFrame(columns = ['likes','comment_counts','dates','captions','type_posts','links'])\n",
    "df.likes =  likes\n",
    "df.comment_counts = comment_counts\n",
    "df.dates = dates\n",
    "df.captions = captions\n",
    "df.type_posts = type_posts\n",
    "df.links = links\n",
    "\n",
    "df"
   ]
  },
  {
   "cell_type": "code",
   "execution_count": 9,
   "id": "registered-portable",
   "metadata": {},
   "outputs": [
    {
     "data": {
      "text/html": [
       "<div>\n",
       "<style scoped>\n",
       "    .dataframe tbody tr th:only-of-type {\n",
       "        vertical-align: middle;\n",
       "    }\n",
       "\n",
       "    .dataframe tbody tr th {\n",
       "        vertical-align: top;\n",
       "    }\n",
       "\n",
       "    .dataframe thead th {\n",
       "        text-align: right;\n",
       "    }\n",
       "</style>\n",
       "<table border=\"1\" class=\"dataframe\">\n",
       "  <thead>\n",
       "    <tr style=\"text-align: right;\">\n",
       "      <th></th>\n",
       "      <th>likes</th>\n",
       "      <th>comment_counts</th>\n",
       "      <th>dates</th>\n",
       "      <th>captions</th>\n",
       "      <th>type_posts</th>\n",
       "      <th>links</th>\n",
       "    </tr>\n",
       "  </thead>\n",
       "  <tbody>\n",
       "  </tbody>\n",
       "</table>\n",
       "</div>"
      ],
      "text/plain": [
       "Empty DataFrame\n",
       "Columns: [likes, comment_counts, dates, captions, type_posts, links]\n",
       "Index: []"
      ]
     },
     "execution_count": 9,
     "metadata": {},
     "output_type": "execute_result"
    }
   ],
   "source": [
    "#convert epoch time --> datetime\n",
    "#The format is year-month-day-hour\n",
    "df['dates'] = df['dates'].apply(lambda x: dt.datetime.fromtimestamp(x).strftime('%Y-%m-%d-%H'))\n",
    "#remove unused characters in feature captions\n",
    "df['captions'] = df['captions'].replace(r'[\\n]', '', regex=True)\n",
    "#fill missing value in features captions\n",
    "df['captions'] = df['captions'].fillna('no captions')\n",
    "df"
   ]
  },
  {
   "cell_type": "code",
   "execution_count": 7,
   "id": "reduced-canvas",
   "metadata": {},
   "outputs": [
    {
     "ename": "NameError",
     "evalue": "name 'base_table' is not defined",
     "output_type": "error",
     "traceback": [
      "\u001b[1;31m---------------------------------------------------------------------------\u001b[0m",
      "\u001b[1;31mNameError\u001b[0m                                 Traceback (most recent call last)",
      "\u001b[1;32m<ipython-input-7-2c1143a26b11>\u001b[0m in \u001b[0;36m<module>\u001b[1;34m\u001b[0m\n\u001b[0;32m      1\u001b[0m \u001b[1;31m#create features lag of n_post (last 3 month)\u001b[0m\u001b[1;33m\u001b[0m\u001b[1;33m\u001b[0m\u001b[1;33m\u001b[0m\u001b[0m\n\u001b[0;32m      2\u001b[0m \u001b[1;31m#number of n_post 1 months ago\u001b[0m\u001b[1;33m\u001b[0m\u001b[1;33m\u001b[0m\u001b[1;33m\u001b[0m\u001b[0m\n\u001b[1;32m----> 3\u001b[1;33m \u001b[0mbase_table\u001b[0m\u001b[1;33m[\u001b[0m\u001b[1;34m'n_post_01'\u001b[0m\u001b[1;33m]\u001b[0m \u001b[1;33m=\u001b[0m \u001b[0mbase_table\u001b[0m\u001b[1;33m.\u001b[0m\u001b[0mgroupby\u001b[0m\u001b[1;33m(\u001b[0m\u001b[1;33m[\u001b[0m\u001b[1;34m'username'\u001b[0m\u001b[1;33m]\u001b[0m\u001b[1;33m)\u001b[0m\u001b[1;33m[\u001b[0m\u001b[1;34m'n_post'\u001b[0m\u001b[1;33m]\u001b[0m\u001b[1;33m.\u001b[0m\u001b[0mshift\u001b[0m\u001b[1;33m(\u001b[0m\u001b[1;36m1\u001b[0m\u001b[1;33m)\u001b[0m\u001b[1;33m.\u001b[0m\u001b[0mfillna\u001b[0m\u001b[1;33m(\u001b[0m\u001b[1;36m0\u001b[0m\u001b[1;33m)\u001b[0m\u001b[1;33m\u001b[0m\u001b[1;33m\u001b[0m\u001b[0m\n\u001b[0m\u001b[0;32m      4\u001b[0m \u001b[1;31m#number of n_post 2 months ago\u001b[0m\u001b[1;33m\u001b[0m\u001b[1;33m\u001b[0m\u001b[1;33m\u001b[0m\u001b[0m\n\u001b[0;32m      5\u001b[0m \u001b[0mbase_table\u001b[0m\u001b[1;33m[\u001b[0m\u001b[1;34m'n_post_02'\u001b[0m\u001b[1;33m]\u001b[0m \u001b[1;33m=\u001b[0m \u001b[0mbase_table\u001b[0m\u001b[1;33m.\u001b[0m\u001b[0mgroupby\u001b[0m\u001b[1;33m(\u001b[0m\u001b[1;33m[\u001b[0m\u001b[1;34m'username'\u001b[0m\u001b[1;33m]\u001b[0m\u001b[1;33m)\u001b[0m\u001b[1;33m[\u001b[0m\u001b[1;34m'n_post'\u001b[0m\u001b[1;33m]\u001b[0m\u001b[1;33m.\u001b[0m\u001b[0mshift\u001b[0m\u001b[1;33m(\u001b[0m\u001b[1;36m2\u001b[0m\u001b[1;33m)\u001b[0m\u001b[1;33m.\u001b[0m\u001b[0mfillna\u001b[0m\u001b[1;33m(\u001b[0m\u001b[1;36m0\u001b[0m\u001b[1;33m)\u001b[0m\u001b[1;33m\u001b[0m\u001b[1;33m\u001b[0m\u001b[0m\n",
      "\u001b[1;31mNameError\u001b[0m: name 'base_table' is not defined"
     ]
    }
   ],
   "source": [
    "#create features lag of n_post (last 3 month)\n",
    "#number of n_post 1 months ago\n",
    "base_table['n_post_01'] = base_table.groupby(['username'])['n_post'].shift(1).fillna(0)\n",
    "#number of n_post 2 months ago\n",
    "base_table['n_post_02'] = base_table.groupby(['username'])['n_post'].shift(2).fillna(0)\n",
    "#number of n_post 3 months ago\n",
    "base_table['n_post_03'] = base_table.groupby(['username'])['n_post'].shift(3).fillna(0)"
   ]
  },
  {
   "cell_type": "code",
   "execution_count": null,
   "id": "animated-velvet",
   "metadata": {},
   "outputs": [],
   "source": [
    "plt.figure(figsize=(10,8))\n",
    "sns.heatmap(df.corr());"
   ]
  },
  {
   "cell_type": "code",
   "execution_count": null,
   "id": "hundred-scale",
   "metadata": {},
   "outputs": [],
   "source": []
  }
 ],
 "metadata": {
  "kernelspec": {
   "display_name": "Python 3",
   "language": "python",
   "name": "python3"
  },
  "language_info": {
   "codemirror_mode": {
    "name": "ipython",
    "version": 3
   },
   "file_extension": ".py",
   "mimetype": "text/x-python",
   "name": "python",
   "nbconvert_exporter": "python",
   "pygments_lexer": "ipython3",
   "version": "3.8.8"
  }
 },
 "nbformat": 4,
 "nbformat_minor": 5
}
