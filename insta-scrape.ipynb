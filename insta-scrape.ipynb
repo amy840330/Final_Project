{
 "cells": [
  {
   "cell_type": "code",
   "execution_count": null,
   "id": "22c385f8",
   "metadata": {},
   "outputs": [],
   "source": [
    "#pip install webdriver-manager\n",
    "#pip install selenium"
   ]
  },
  {
   "cell_type": "code",
   "execution_count": 1,
   "id": "e4689bdd",
   "metadata": {},
   "outputs": [],
   "source": [
    "#IMPORT THESE PACKAGES\n",
    "import selenium\n",
    "from selenium import webdriver\n",
    "import pandas as pd\n",
    "#OPTIONAL PACKAGE, BUY MAYBE NEEDED\n",
    "from webdriver_manager.chrome import ChromeDriverManager"
   ]
  },
  {
   "cell_type": "code",
   "execution_count": 2,
   "id": "ad48f375",
   "metadata": {},
   "outputs": [
    {
     "name": "stderr",
     "output_type": "stream",
     "text": [
      "\n",
      "\n",
      "====== WebDriver manager ======\n",
      "Current google-chrome version is 92.0.4515\n",
      "Get LATEST driver version for 92.0.4515\n",
      "There is no [win32] chromedriver for browser 92.0.4515 in cache\n",
      "Get LATEST driver version for 92.0.4515\n",
      "Trying to download new driver from https://chromedriver.storage.googleapis.com/92.0.4515.107/chromedriver_win32.zip\n",
      "Driver has been saved in cache [C:\\Users\\silve\\.wdm\\drivers\\chromedriver\\win32\\92.0.4515.107]\n"
     ]
    }
   ],
   "source": [
    "#THIS INITIALIZES THE DRIVER (AKA THE WEB BROWSER)\n",
    "driver = webdriver.Chrome(ChromeDriverManager().install())\n",
    "#THIS PRETTY MUCH TELLS THE WEB BROWSER WHICH WEBSITE TO GO TO\n",
    "driver.get('https://www.instagram.com/kimkardashian/?hl=en')"
   ]
  },
  {
   "cell_type": "code",
   "execution_count": 5,
   "id": "c406b6f7",
   "metadata": {},
   "outputs": [],
   "source": [
    "#NUMBER OF POSTS\n",
    "Posts = driver.find_element_by_xpath('/html/body/div[1]/section/main/div/div[2]/a[1]/span').text\n",
    "#NUMBER OF FOLLOWERS\n",
    "Followers = driver.find_element_by_xpath('/html/body/div[1]/section/main/div/header/section/ul/li[2]/a/span').text\n",
    "#NUMBER FOLLOWING\n",
    "Following = driver.find_element_by_xpath('/html/body/div[1]/section/main/div/header/section/ul/li[3]/a/span').text"
   ]
  },
  {
   "cell_type": "code",
   "execution_count": 6,
   "id": "6d06da7f",
   "metadata": {},
   "outputs": [
    {
     "name": "stdout",
     "output_type": "stream",
     "text": [
      "POSTS\n",
      "245m\n",
      "153\n"
     ]
    }
   ],
   "source": [
    "#PRINTS OUT THE DATA PULLED FROM ABOVE\n",
    "print(Posts)\n",
    "print(Followers)\n",
    "print(Following)"
   ]
  },
  {
   "cell_type": "code",
   "execution_count": 7,
   "id": "1e6e56a5",
   "metadata": {},
   "outputs": [],
   "source": [
    "#CREATES A EMPTY DATAFRAME\n",
    "data1 = {'Posts':[], 'Followers':[], 'Following':[],}\n",
    "fulldf = pd.DataFrame(data1)"
   ]
  },
  {
   "cell_type": "code",
   "execution_count": 8,
   "id": "318118e9",
   "metadata": {},
   "outputs": [],
   "source": [
    "#APPENDING THE DATA PULLED FROM ABOVE INTO THE EXISTING DATAFRAME\n",
    "row = [Posts, Followers, Following]\n",
    "fulldf.loc[len(fulldf)] = row"
   ]
  }
 ],
 "metadata": {
  "kernelspec": {
   "display_name": "Python [conda env:PythonAdv]",
   "language": "python",
   "name": "conda-env-PythonAdv-py"
  },
  "language_info": {
   "codemirror_mode": {
    "name": "ipython",
    "version": 3
   },
   "file_extension": ".py",
   "mimetype": "text/x-python",
   "name": "python",
   "nbconvert_exporter": "python",
   "pygments_lexer": "ipython3",
   "version": "3.6.13"
  }
 },
 "nbformat": 4,
 "nbformat_minor": 5
}
