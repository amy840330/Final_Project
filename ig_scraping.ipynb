{
 "cells": [
  {
   "cell_type": "code",
   "execution_count": null,
   "id": "pointed-fruit",
   "metadata": {},
   "outputs": [],
   "source": [
    "#imports here\n",
    "from selenium import webdriver\n",
    "from selenium.webdriver.common.keys import Keys\n",
    "from selenium.webdriver.support import expected_conditions as EC\n",
    "from selenium.webdriver.common.by import By\n",
    "from selenium.webdriver.support.wait import WebDriverWait\n",
    "from webdriver_manager.chrome import ChromeDriverManager\n"
   ]
  },
  {
   "cell_type": "code",
   "execution_count": 2,
   "id": "liable-smell",
   "metadata": {},
   "outputs": [],
   "source": [
    "\n",
    "import config\n"
   ]
  },
  {
   "cell_type": "code",
   "execution_count": 3,
   "id": "starting-alcohol",
   "metadata": {},
   "outputs": [],
   "source": [
    "#specify the path to chromedriver.exe (download and save on your computer)\n",
    "driver = webdriver.Chrome('C:/Users/17076/.wdm/drivers/chromedriver/win32/92.0.4515.107/chromedriver.exe')\n",
    "\n",
    "#open the webpage\n",
    "driver.get(\"http://www.instagram.com\")\n"
   ]
  },
  {
   "cell_type": "markdown",
   "id": "loaded-architecture",
   "metadata": {},
   "source": [
    "INSERT PASSWORD"
   ]
  },
  {
   "cell_type": "code",
   "execution_count": 4,
   "id": "complimentary-hazard",
   "metadata": {},
   "outputs": [],
   "source": [
    "#target the login button and click it\n",
    "button = WebDriverWait(driver, 2).until(EC.element_to_be_clickable((By.CSS_SELECTOR, \"button[type='button']\"))).click()\n",
    "\n",
    "#target username\n",
    "username = WebDriverWait(driver, 10).until(EC.element_to_be_clickable((By.CSS_SELECTOR, \"input[name='email']\")))\n",
    "password = WebDriverWait(driver, 10).until(EC.element_to_be_clickable((By.CSS_SELECTOR, \"input[name='pass']\")))\n",
    "\n",
    "\n",
    "#enter username and password\n",
    "username.clear()\n",
    "username.send_keys(\"vsanga04@gmail.com\")\n",
    "password.clear()\n",
    "password.send_keys(\"xxx\")\n",
    "\n",
    "#target the login button and click it\n",
    "log_in = WebDriverWait(driver, 2).until(EC.element_to_be_clickable((By.CSS_SELECTOR, \"button[type='submit']\"))).click()\n",
    "\n",
    "#We are logged in!"
   ]
  },
  {
   "cell_type": "code",
   "execution_count": 5,
   "id": "elect-basin",
   "metadata": {},
   "outputs": [],
   "source": [
    "not_now = WebDriverWait(driver, 10).until(EC.element_to_be_clickable((By.XPATH, \"//button[contains(text(), 'Not Now')]\"))).click()\n"
   ]
  },
  {
   "cell_type": "code",
   "execution_count": 6,
   "id": "north-dividend",
   "metadata": {},
   "outputs": [],
   "source": [
    "searchbox = WebDriverWait(driver, 10).until(EC.element_to_be_clickable((By.XPATH, \"//input[@placeholder = 'Search']\")))\n",
    "searchbox.clear()\n",
    "keyword = \"thesmokingtire\"\n",
    "searchbox.send_keys(keyword)\n"
   ]
  },
  {
   "cell_type": "code",
   "execution_count": 7,
   "id": "finite-sydney",
   "metadata": {},
   "outputs": [],
   "source": [
    "\n",
    "searchbox.send_keys(Keys.ENTER)\n",
    "\n",
    "searchbox.send_keys(Keys.ENTER)"
   ]
  },
  {
   "cell_type": "code",
   "execution_count": 9,
   "id": "bizarre-earth",
   "metadata": {},
   "outputs": [],
   "source": [
    "\n",
    "searchbox.send_keys(Keys.ENTER)"
   ]
  },
  {
   "cell_type": "code",
   "execution_count": 11,
   "id": "together-picking",
   "metadata": {},
   "outputs": [
    {
     "data": {
      "text/plain": [
       "['https://scontent-sjc3-1.cdninstagram.com/v/t51.2885-19/s150x150/66812729_2663044367062759_7524422741382922240_n.jpg?_nc_ht=scontent-sjc3-1.cdninstagram.com&_nc_ohc=UvAhQ7JY-DIAX-v4vDF&tn=iNqHTG1Ond01My4w&edm=ABfd0MgBAAAA&ccb=7-4&oh=b02dc4a89decb06765fd35c7b2196c9b&oe=612520CA&_nc_sid=7bff83',\n",
       " 'https://scontent-sjc3-1.cdninstagram.com/v/t51.2885-15/e15/c0.247.640.640a/s150x150/181114959_2970670446391528_4521367157371891704_n.jpg?_nc_ht=scontent-sjc3-1.cdninstagram.com&_nc_cat=104&_nc_ohc=f5g-rUaYwF0AX_gooQe&edm=AGW0Xe4BAAAA&ccb=7-4&oh=65bbf1c44cedb90b40cbe2e2ad3930da&oe=61206F51&_nc_sid=acd11b',\n",
       " 'https://scontent-sjc3-1.cdninstagram.com/v/t51.2885-15/e15/c0.248.640.640a/s150x150/139708461_1796688877146428_3906090095536085067_n.jpg?_nc_ht=scontent-sjc3-1.cdninstagram.com&_nc_cat=108&_nc_ohc=-akQmiO20NQAX-19GpK&tn=iNqHTG1Ond01My4w&edm=AGW0Xe4BAAAA&ccb=7-4&oh=f21e270a17a44f58fe154b2303a2809f&oe=61207ADF&_nc_sid=acd11b',\n",
       " 'https://scontent-sjc3-1.cdninstagram.com/v/t51.2885-15/sh0.08/e35/s640x640/237656061_351266499813680_1233458529209604810_n.jpg?_nc_ht=scontent-sjc3-1.cdninstagram.com&_nc_cat=108&_nc_ohc=JcFRNi_g0G4AX_rgN9M&edm=ABfd0MgBAAAA&ccb=7-4&oh=b8460085f5767727dba2f0a96250c87c&oe=6124EE46&_nc_sid=7bff83',\n",
       " 'https://scontent-sjc3-1.cdninstagram.com/v/t51.2885-15/sh0.08/e35/s640x640/236646197_3034252703567161_5398991365208497126_n.jpg?_nc_ht=scontent-sjc3-1.cdninstagram.com&_nc_cat=101&_nc_ohc=-VHuokdzlJkAX-7vUgI&tn=iNqHTG1Ond01My4w&edm=ABfd0MgBAAAA&ccb=7-4&oh=c762e3615dd755e8e2621895954ba47a&oe=61254BFD&_nc_sid=7bff83',\n",
       " 'https://scontent-sjc3-1.cdninstagram.com/v/t51.2885-15/sh0.08/e35/s640x640/238865640_490716368674497_8182880731550392887_n.jpg?_nc_ht=scontent-sjc3-1.cdninstagram.com&_nc_cat=109&_nc_ohc=mve326AlH4EAX9EXC3q&edm=ABfd0MgBAAAA&ccb=7-4&oh=ddd03f9d43aad8db5d81eab68fe5232b&oe=6125E509&_nc_sid=7bff83',\n",
       " 'https://scontent-sjc3-1.cdninstagram.com/v/t51.2885-15/sh0.08/e35/s640x640/237217874_1504123319930224_7345015198476129434_n.jpg?_nc_ht=scontent-sjc3-1.cdninstagram.com&_nc_cat=104&_nc_ohc=DTfTOcnFnIkAX_o-dJJ&edm=APU89FABAAAA&ccb=7-4&oh=cf19bcb11ded552e9b309a7e1b395719&oe=61258885&_nc_sid=86f79a',\n",
       " 'https://scontent-sjc3-1.cdninstagram.com/v/t51.2885-15/sh0.08/e35/c124.0.1192.1192a/s640x640/236736113_1713703412170266_8893377948222767996_n.jpg?_nc_ht=scontent-sjc3-1.cdninstagram.com&_nc_cat=106&_nc_ohc=nXtXWQhTnTwAX-wV4wj&edm=APU89FABAAAA&ccb=7-4&oh=3360fc0e6228519bb592eaf81da8a855&oe=6124FD59&_nc_sid=86f79a',\n",
       " 'https://scontent-sjc3-1.cdninstagram.com/v/t51.2885-15/e15/c200.0.679.679a/s640x640/236275795_378106883883431_1269464650514795334_n.jpg?_nc_ht=scontent-sjc3-1.cdninstagram.com&_nc_cat=111&_nc_ohc=E98qPDtq5QwAX-MX3yi&edm=APU89FABAAAA&ccb=7-4&oh=e330731034ac99202c606983875fa145&oe=61252811&_nc_sid=86f79a',\n",
       " 'https://scontent-sjc3-1.cdninstagram.com/v/t51.2885-15/e15/c135.0.810.810a/s640x640/238123421_575140306845286_3409190054095341823_n.jpg?_nc_ht=scontent-sjc3-1.cdninstagram.com&_nc_cat=110&_nc_ohc=cVQ647yJY0IAX_8ZxLA&edm=APU89FABAAAA&ccb=7-4&oh=f4763029f9c7b592e52f6c88f039ff10&oe=6124F52E&_nc_sid=86f79a',\n",
       " 'https://scontent-sjc3-1.cdninstagram.com/v/t51.2885-15/sh0.08/e35/c121.0.1197.1197a/s640x640/236614603_544347573438911_6266066405154449035_n.jpg?_nc_ht=scontent-sjc3-1.cdninstagram.com&_nc_cat=111&_nc_ohc=7wL087ooSPsAX-7HW1f&edm=APU89FABAAAA&ccb=7-4&oh=ad20e9b7da7c2124eb4207446b8c86ae&oe=6124C5E1&_nc_sid=86f79a',\n",
       " 'https://scontent-sjc3-1.cdninstagram.com/v/t51.2885-15/sh0.08/e35/s640x640/235788181_215145063877470_8819375812500052642_n.jpg?_nc_ht=scontent-sjc3-1.cdninstagram.com&_nc_cat=106&_nc_ohc=jXN4kahyz5cAX_1cMNx&tn=iNqHTG1Ond01My4w&edm=APU89FABAAAA&ccb=7-4&oh=e07f163ad4a22bf943c78cd4dbd7391b&oe=61242FB3&_nc_sid=86f79a',\n",
       " 'https://scontent-sjc3-1.cdninstagram.com/v/t51.2885-15/e35/c0.236.607.607a/235825586_854830408487856_6370644038546938292_n.jpg?_nc_ht=scontent-sjc3-1.cdninstagram.com&_nc_cat=100&_nc_ohc=M78VucPm-UoAX8RFRMo&edm=APU89FABAAAA&ccb=7-4&oh=04d6d16d843010ede1e6e892bf77aefc&oe=612042A5&_nc_sid=86f79a',\n",
       " 'https://scontent-sjc3-1.cdninstagram.com/v/t51.2885-15/sh0.08/e35/c0.180.1440.1440a/s640x640/235580395_886433535289320_2245419618395292817_n.jpg?_nc_ht=scontent-sjc3-1.cdninstagram.com&_nc_cat=100&_nc_ohc=aXEzCqJ-CVwAX_d51b6&edm=APU89FABAAAA&ccb=7-4&oh=cd729ef98b06a8e713827e5af0c61f82&oe=61258740&_nc_sid=86f79a',\n",
       " 'https://scontent-sjc3-1.cdninstagram.com/v/t51.2885-15/e35/c0.236.607.607a/236283700_1185950778552674_5461869098359342379_n.jpg?_nc_ht=scontent-sjc3-1.cdninstagram.com&_nc_cat=102&_nc_ohc=TFgZ3dJ0--0AX84mNyJ&edm=APU89FABAAAA&ccb=7-4&oh=d5e92689d8d78b3dc54bc974e4cfa2f3&oe=6120A738&_nc_sid=86f79a',\n",
       " 'https://scontent-sjc3-1.cdninstagram.com/v/t51.2885-15/sh0.08/e35/c0.134.1080.1080a/s640x640/236548874_1208736256255813_4407574384777531036_n.jpg?_nc_ht=scontent-sjc3-1.cdninstagram.com&_nc_cat=101&_nc_ohc=svypsbIri3sAX-8yvWB&edm=APU89FABAAAA&ccb=7-4&oh=bd5686f9e37fc31651ce8dd1cc668034&oe=6125F039&_nc_sid=86f79a',\n",
       " 'https://scontent-sjc3-1.cdninstagram.com/v/t51.2885-15/e15/c257.0.565.565a/236523608_360920758951247_1608888189825746436_n.jpg?_nc_ht=scontent-sjc3-1.cdninstagram.com&_nc_cat=111&_nc_ohc=LK8N9S4fwIsAX9DxWZU&edm=APU89FABAAAA&ccb=7-4&oh=8c5267fd234eab925a111a16966ee9ca&oe=6125EC43&_nc_sid=86f79a',\n",
       " 'https://scontent-sjc3-1.cdninstagram.com/v/t51.2885-15/e15/c0.90.720.720a/s640x640/235818966_1218872491915305_2215361060809672187_n.jpg?_nc_ht=scontent-sjc3-1.cdninstagram.com&_nc_cat=109&_nc_ohc=lklP3MiJvZkAX_qdSMB&edm=APU89FABAAAA&ccb=7-4&oh=a2dc020050f102840b3dadeb3e4b4dab&oe=6120835D&_nc_sid=86f79a',\n",
       " 'https://scontent-sjc3-1.cdninstagram.com/v/t51.2885-15/sh0.08/e35/c0.135.1080.1080a/s640x640/235112676_212766340790482_2265389788849523008_n.jpg?_nc_ht=scontent-sjc3-1.cdninstagram.com&_nc_cat=110&_nc_ohc=WP9spimdnDQAX-RJSLY&edm=APU89FABAAAA&ccb=7-4&oh=f22668f10c5d8578f3e312f8b3b3386a&oe=6125A485&_nc_sid=86f79a',\n",
       " 'https://scontent-sjc3-1.cdninstagram.com/v/t51.2885-15/e35/c0.236.607.607a/234492632_230237099104147_2293069777592060541_n.jpg?_nc_ht=scontent-sjc3-1.cdninstagram.com&_nc_cat=107&_nc_ohc=psLnvY2dF4QAX-piCBx&edm=APU89FABAAAA&ccb=7-4&oh=caebffe063061ac0e911edf4bb330211&oe=61204E04&_nc_sid=86f79a',\n",
       " 'https://scontent-sjc3-1.cdninstagram.com/v/t51.2885-15/sh0.08/e35/s640x640/235461186_1508951852780341_1982605130848398792_n.jpg?_nc_ht=scontent-sjc3-1.cdninstagram.com&_nc_cat=101&_nc_ohc=NnVUEs9E_W4AX8jAIvy&edm=APU89FABAAAA&ccb=7-4&oh=4eadf87fc3643cf377444a6295fb55b3&oe=6125C59C&_nc_sid=86f79a',\n",
       " 'https://scontent-sjc3-1.cdninstagram.com/v/t51.2885-15/sh0.08/e35/c0.0.1439.1439a/s640x640/234816304_358548122424185_3092833122677445803_n.jpg?_nc_ht=scontent-sjc3-1.cdninstagram.com&_nc_cat=105&_nc_ohc=DpXuTYOENlMAX_gvMRm&edm=APU89FABAAAA&ccb=7-4&oh=25063c330192b8df902e5a5769e6cf40&oe=61255941&_nc_sid=86f79a',\n",
       " 'https://scontent-sjc3-1.cdninstagram.com/v/t51.2885-15/e15/c257.0.565.565a/234403644_132581075723277_8017465958252793404_n.jpg?_nc_ht=scontent-sjc3-1.cdninstagram.com&_nc_cat=109&_nc_ohc=ppaBOvk348YAX_5s8ta&edm=APU89FABAAAA&ccb=7-4&oh=e4a811f25d94a97743a15c2f6fcd5c54&oe=612599B8&_nc_sid=86f79a',\n",
       " 'https://scontent-sjc3-1.cdninstagram.com/v/t51.2885-15/e15/c257.0.565.565a/236353954_163531469217061_8832783929428496319_n.jpg?_nc_ht=scontent-sjc3-1.cdninstagram.com&_nc_cat=101&_nc_ohc=KiwOcmbIweUAX_-FtmJ&edm=APU89FABAAAA&ccb=7-4&oh=fb4992f8c7583ca84069a802121ddd9c&oe=61242796&_nc_sid=86f79a',\n",
       " 'https://scontent-sjc3-1.cdninstagram.com/v/t51.2885-15/e15/c0.90.720.720a/s640x640/234088726_442162140141866_2110340687189034391_n.jpg?_nc_ht=scontent-sjc3-1.cdninstagram.com&_nc_cat=102&_nc_ohc=cr30aLpbyUcAX-RoP-5&edm=APU89FABAAAA&ccb=7-4&oh=ded41e8708221b3009200b55fdf2e727&oe=6120084B&_nc_sid=86f79a',\n",
       " 'https://scontent-sjc3-1.cdninstagram.com/v/t51.2885-15/e15/c257.0.565.565a/234124136_245515293962711_4083090235668016651_n.jpg?_nc_ht=scontent-sjc3-1.cdninstagram.com&_nc_cat=111&_nc_ohc=JZyTWrrcV4MAX8gMCFH&tn=iNqHTG1Ond01My4w&edm=APU89FABAAAA&ccb=7-4&oh=24bde9afdfdde1d5ec63e97846a7fb18&oe=61250ADC&_nc_sid=86f79a',\n",
       " 'https://scontent-sjc3-1.cdninstagram.com/v/t51.2885-15/sh0.08/e35/s640x640/233814257_206991264617836_2138585883640477763_n.jpg?_nc_ht=scontent-sjc3-1.cdninstagram.com&_nc_cat=104&_nc_ohc=-yKKrkRb_h8AX-zxaO7&tn=iNqHTG1Ond01My4w&edm=APU89FABAAAA&ccb=7-4&oh=6b3db22389c254fe892336675b1c1f5c&oe=61251408&_nc_sid=86f79a',\n",
       " 'https://scontent-sjc3-1.cdninstagram.com/v/t51.2885-15/sh0.08/e35/s640x640/234800606_523531798707916_7423924666481044197_n.jpg?_nc_ht=scontent-sjc3-1.cdninstagram.com&_nc_cat=104&_nc_ohc=P1BRIyaeOZgAX8y6Gz-&edm=APU89FABAAAA&ccb=7-4&oh=82a32f4d7cf0e50e853f2d7416653bc4&oe=6123F92F&_nc_sid=86f79a',\n",
       " 'https://scontent-sjc3-1.cdninstagram.com/v/t51.2885-15/sh0.08/e35/c94.0.1251.1251a/s640x640/233657510_539730690676293_4467099207918588808_n.jpg?_nc_ht=scontent-sjc3-1.cdninstagram.com&_nc_cat=109&_nc_ohc=y_963Z0jDvcAX_Qe_VI&edm=APU89FABAAAA&ccb=7-4&oh=facd06ee02a64ff910a01131f7390338&oe=61248269&_nc_sid=86f79a',\n",
       " 'https://scontent-sjc3-1.cdninstagram.com/v/t51.2885-15/sh0.08/e35/c150.0.1139.1139a/s640x640/233802113_194752849296769_3782636856518389137_n.jpg?_nc_ht=scontent-sjc3-1.cdninstagram.com&_nc_cat=101&_nc_ohc=DEHUN67xltIAX9qAj9y&tn=iNqHTG1Ond01My4w&edm=APU89FABAAAA&ccb=7-4&oh=2ca6f1b1eb5e2661ee76eaaf3e5bfb12&oe=61241CF1&_nc_sid=86f79a',\n",
       " 'https://scontent-sjc3-1.cdninstagram.com/v/t51.2885-15/sh0.08/e35/c180.0.1080.1080a/s640x640/233610237_207858644637876_4681879332592230041_n.jpg?_nc_ht=scontent-sjc3-1.cdninstagram.com&_nc_cat=100&_nc_ohc=nwMrOyYFkdAAX_-NENm&edm=APU89FABAAAA&ccb=7-4&oh=085a84f739ce8894f36a36d12972c1c8&oe=61245CF8&_nc_sid=86f79a',\n",
       " 'https://scontent-sjc3-1.cdninstagram.com/v/t51.2885-15/e35/c157.0.405.405a/231937425_288006763081221_570993790811662133_n.jpg?_nc_ht=scontent-sjc3-1.cdninstagram.com&_nc_cat=109&_nc_ohc=sQSjqow56_4AX_z0Ic5&edm=APU89FABAAAA&ccb=7-4&oh=070288126027ae0f0eef51c2a1d4c3aa&oe=6120504C&_nc_sid=86f79a',\n",
       " 'https://scontent-sjc3-1.cdninstagram.com/v/t51.2885-15/sh0.08/e35/c0.90.720.720a/s640x640/234238898_1264036684041682_7441008676642131957_n.jpg?_nc_ht=scontent-sjc3-1.cdninstagram.com&_nc_cat=110&_nc_ohc=SLR1_9Lx31IAX_cJQzl&edm=APU89FABAAAA&ccb=7-4&oh=9518d1d56324a7950535847a46970a7e&oe=6120446C&_nc_sid=86f79a',\n",
       " 'https://scontent-sjc3-1.cdninstagram.com/v/t51.2885-15/e15/c257.0.565.565a/232687260_191348173036132_3598892931602775835_n.jpg?_nc_ht=scontent-sjc3-1.cdninstagram.com&_nc_cat=104&_nc_ohc=CyzfGmW3HcEAX-ajF2a&edm=APU89FABAAAA&ccb=7-4&oh=19b64bc44a71ed280a480900bbc8457e&oe=61253731&_nc_sid=86f79a',\n",
       " 'https://scontent-sjc3-1.cdninstagram.com/v/t51.2885-15/sh0.08/e35/c0.135.1080.1080a/s640x640/233418576_1243544006088158_264670687362304170_n.jpg?_nc_ht=scontent-sjc3-1.cdninstagram.com&_nc_cat=102&_nc_ohc=2I1JWrZJiu8AX999sLr&edm=APU89FABAAAA&ccb=7-4&oh=754a43c99cb82a620c7e244d3c0c6614&oe=612466A2&_nc_sid=86f79a',\n",
       " 'https://scontent-sjc3-1.cdninstagram.com/v/t51.2885-15/e15/c0.90.720.720a/s640x640/233590762_998187224330675_8223849106355645384_n.jpg?_nc_ht=scontent-sjc3-1.cdninstagram.com&_nc_cat=111&_nc_ohc=-tGhtsVY8MgAX8OdUna&tn=iNqHTG1Ond01My4w&edm=APU89FABAAAA&ccb=7-4&oh=7e6bbb0cb584b82d56be5513dbb261fd&oe=6120034A&_nc_sid=86f79a',\n",
       " 'https://scontent-sjc3-1.cdninstagram.com/v/t51.2885-15/e15/c257.0.565.565a/232991113_876170556354531_7545820453991448298_n.jpg?_nc_ht=scontent-sjc3-1.cdninstagram.com&_nc_cat=103&_nc_ohc=RZBEhKkhbpwAX-PpY_e&tn=iNqHTG1Ond01My4w&edm=APU89FABAAAA&ccb=7-4&oh=31414b4857a6ac5384562fe7587ecde9&oe=61244598&_nc_sid=86f79a',\n",
       " 'https://scontent-sjc3-1.cdninstagram.com/v/t51.2885-15/sh0.08/e35/s640x640/230843494_1256257271484397_2852302868986110007_n.jpg?_nc_ht=scontent-sjc3-1.cdninstagram.com&_nc_cat=101&_nc_ohc=Ndk6VzY3SK4AX_ObdUG&tn=iNqHTG1Ond01My4w&edm=APU89FABAAAA&ccb=7-4&oh=08b986700ceeeaad891fe55b66ce7d27&oe=6125B82B&_nc_sid=86f79a',\n",
       " 'https://scontent-sjc3-1.cdninstagram.com/v/t51.2885-15/e15/c236.0.607.607a/230814435_3017902355198014_2919611938978334487_n.jpg?_nc_ht=scontent-sjc3-1.cdninstagram.com&_nc_cat=110&_nc_ohc=Q0JHUXu0jUMAX_TKHM5&tn=iNqHTG1Ond01My4w&edm=APU89FABAAAA&ccb=7-4&oh=46d7cb5a3bd2e79cf5f331cc6c71f7d0&oe=61250D0F&_nc_sid=86f79a',\n",
       " 'https://scontent-sjc3-1.cdninstagram.com/v/t51.2885-15/e35/c157.0.405.405a/230725099_2717888708513616_674440129320691506_n.jpg?_nc_ht=scontent-sjc3-1.cdninstagram.com&_nc_cat=100&_nc_ohc=-PN6zUylSPAAX9d3H6Y&edm=APU89FABAAAA&ccb=7-4&oh=cff7ac30f5af33b90c32407ec9064e91&oe=61200377&_nc_sid=86f79a',\n",
       " 'https://scontent-sjc3-1.cdninstagram.com/v/t51.2885-15/sh0.08/e35/c0.180.1440.1440a/s640x640/230450600_263374881887344_3484298610696582048_n.jpg?_nc_ht=scontent-sjc3-1.cdninstagram.com&_nc_cat=104&_nc_ohc=maYodNonGLkAX_jAOl-&edm=APU89FABAAAA&ccb=7-4&oh=8a6211a2c395b00a966ea9c48d972d8f&oe=6125448E&_nc_sid=86f79a',\n",
       " 'https://scontent-sjc3-1.cdninstagram.com/v/t51.2885-15/sh0.08/e35/s640x640/229257655_183048710477222_946033784084021310_n.jpg?_nc_ht=scontent-sjc3-1.cdninstagram.com&_nc_cat=102&_nc_ohc=sw2MFrhg8cUAX9qt486&edm=APU89FABAAAA&ccb=7-4&oh=588cd4786e9f5412eb1411cdf1e685de&oe=61258C62&_nc_sid=86f79a',\n",
       " 'https://www.instagram.com/static/images/web/mobile_nav_type_logo.png/735145cfe0a4.png',\n",
       " 'https://scontent-sjc3-1.cdninstagram.com/v/t51.2885-19/s150x150/56781247_404982633660885_1828316570875592704_n.jpg?_nc_ht=scontent-sjc3-1.cdninstagram.com&_nc_ohc=DujmTcjWYj0AX9kXXoU&edm=AIQHJ4wBAAAA&ccb=7-4&oh=70e2169410c5fa0a99f62f512b8be748&oe=61242209&_nc_sid=7b02f1']"
      ]
     },
     "execution_count": 11,
     "metadata": {},
     "output_type": "execute_result"
    }
   ],
   "source": [
    "driver.execute_script(\"window.scrollTo(0,4000);\")\n",
    "\n",
    "images = driver.find_elements_by_tag_name('img')\n",
    "images = [image.get_attribute('src') for image in images]\n",
    "images"
   ]
  },
  {
   "cell_type": "code",
   "execution_count": null,
   "id": "dense-ambassador",
   "metadata": {},
   "outputs": [],
   "source": []
  }
 ],
 "metadata": {
  "kernelspec": {
   "display_name": "Python [conda env:PythonData] *",
   "language": "python",
   "name": "conda-env-PythonData-py"
  },
  "language_info": {
   "codemirror_mode": {
    "name": "ipython",
    "version": 3
   },
   "file_extension": ".py",
   "mimetype": "text/x-python",
   "name": "python",
   "nbconvert_exporter": "python",
   "pygments_lexer": "ipython3",
   "version": "3.8.8"
  }
 },
 "nbformat": 4,
 "nbformat_minor": 5
}
